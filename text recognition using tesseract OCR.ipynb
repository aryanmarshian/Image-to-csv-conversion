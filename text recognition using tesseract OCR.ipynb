{
 "cells": [
  {
   "cell_type": "code",
   "execution_count": 38,
   "id": "f9131d7c",
   "metadata": {},
   "outputs": [],
   "source": [
    "import pytesseract\n",
    "from pytesseract import Output\n",
    "import cv2\n",
    "import pandas as pd\n",
    "import numpy as np\n",
    "import os"
   ]
  },
  {
   "cell_type": "code",
   "execution_count": 39,
   "id": "ad78830f",
   "metadata": {},
   "outputs": [],
   "source": [
    "image_path = 'C:/Users/aryan/Desktop/WORK/business quant/[Business Quant] Image dataset for OCR/image00004.png'"
   ]
  },
  {
   "cell_type": "code",
   "execution_count": 57,
   "id": "03b7c895",
   "metadata": {},
   "outputs": [],
   "source": [
    "#img is read\n",
    "image = cv2.imread(image_path, cv2.IMREAD_GRAYSCALE)"
   ]
  },
  {
   "cell_type": "code",
   "execution_count": 59,
   "id": "17d187a8",
   "metadata": {},
   "outputs": [],
   "source": [
    "#detect structure using opencv\n",
    "horizontal_kernel = cv2.getStructuringElement(cv2.MORPH_RECT, (25, 1))\n",
    "vertical_kernel = cv2.getStructuringElement(cv2.MORPH_RECT, (1, 25))\n",
    "horizontal_lines = cv2.morphologyEx(image, cv2.MORPH_OPEN, horizontal_kernel, iterations=2)\n",
    "vertical_lines = cv2.morphologyEx(image, cv2.MORPH_OPEN, vertical_kernel, iterations=2)"
   ]
  },
  {
   "cell_type": "code",
   "execution_count": 60,
   "id": "50b137f4",
   "metadata": {},
   "outputs": [],
   "source": [
    "#structure is defined\n",
    "table_structure = cv2.add(horizontal_lines, vertical_lines)"
   ]
  },
  {
   "cell_type": "code",
   "execution_count": 61,
   "id": "260af5fa",
   "metadata": {},
   "outputs": [],
   "source": [
    "#bounding boxes are found\n",
    "contours, _ = cv2.findContours(table_structure, cv2.RETR_EXTERNAL, cv2.CHAIN_APPROX_SIMPLE)\n",
    "bounding_boxes = [cv2.boundingRect(c) for c in contours]"
   ]
  },
  {
   "cell_type": "code",
   "execution_count": 62,
   "id": "bbde7e1e",
   "metadata": {},
   "outputs": [],
   "source": [
    "bounding_boxes = sorted(bounding_boxes, key=lambda x: x[1])"
   ]
  },
  {
   "cell_type": "code",
   "execution_count": 74,
   "id": "c8087bb1",
   "metadata": {},
   "outputs": [],
   "source": [
    "#path to output\n",
    "output_csv_path = os.path.expanduser('~/ocr_output3.csv')"
   ]
  },
  {
   "cell_type": "code",
   "execution_count": 64,
   "id": "ef0d9122",
   "metadata": {},
   "outputs": [],
   "source": [
    "ocr_data = []"
   ]
  },
  {
   "cell_type": "code",
   "execution_count": 68,
   "id": "dcd3a5b0",
   "metadata": {},
   "outputs": [],
   "source": [
    "#iterate through bounding boxes to recognize text\n",
    "for i, (x, y, w, h) in enumerate(bounding_boxes):\n",
    "    roi = image[y:y+h, x:x+w]\n",
    "    #tesseract is used for ocr\n",
    "    ocr_result = pytesseract.image_to_data(roi, output_type=Output.DICT)\n",
    "    \n",
    "    for j in range(len(ocr_result['text'])):\n",
    "        text = ocr_result['text'][j].strip()\n",
    "        if text:  \n",
    "            row_number = i  \n",
    "            col_number = ocr_result['left'][j] \n",
    "            ocr_data.append({'Row': row_number, 'Col': col_number, 'Text': text})"
   ]
  },
  {
   "cell_type": "code",
   "execution_count": 69,
   "id": "0c9f7f5e",
   "metadata": {},
   "outputs": [],
   "source": [
    "#list to dataframe\n",
    "df = pd.DataFrame(ocr_data)"
   ]
  },
  {
   "cell_type": "code",
   "execution_count": 72,
   "id": "446d64b3",
   "metadata": {},
   "outputs": [],
   "source": [
    "#dataframe is sorted\n",
    "if not df.empty:\n",
    "    df = df.sort_values(by=['Row', 'Col'])"
   ]
  },
  {
   "cell_type": "code",
   "execution_count": 75,
   "id": "b5846ab4",
   "metadata": {},
   "outputs": [],
   "source": [
    "#save as csv file\n",
    "df.to_csv(output_csv_path, index=False, header=False)"
   ]
  }
 ],
 "metadata": {
  "kernelspec": {
   "display_name": "Python 3 (ipykernel)",
   "language": "python",
   "name": "python3"
  },
  "language_info": {
   "codemirror_mode": {
    "name": "ipython",
    "version": 3
   },
   "file_extension": ".py",
   "mimetype": "text/x-python",
   "name": "python",
   "nbconvert_exporter": "python",
   "pygments_lexer": "ipython3",
   "version": "3.11.5"
  }
 },
 "nbformat": 4,
 "nbformat_minor": 5
}
